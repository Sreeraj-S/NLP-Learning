{
 "cells": [
  {
   "cell_type": "code",
   "execution_count": 23,
   "id": "ea40008d-dfe4-4e25-8772-b9c7fc7918c2",
   "metadata": {},
   "outputs": [],
   "source": [
    "# !pip3 install --pre torch>2.0.1"
   ]
  },
  {
   "cell_type": "code",
   "execution_count": 1,
   "id": "4b2afa3f-a821-44d2-bea0-61beb73acad9",
   "metadata": {},
   "outputs": [
    {
     "ename": "ModuleNotFoundError",
     "evalue": "No module named 'torchtext'",
     "output_type": "error",
     "traceback": [
      "\u001b[0;31m---------------------------------------------------------------------------\u001b[0m",
      "\u001b[0;31mModuleNotFoundError\u001b[0m                       Traceback (most recent call last)",
      "Cell \u001b[0;32mIn[1], line 5\u001b[0m\n\u001b[1;32m      3\u001b[0m \u001b[39mimport\u001b[39;00m \u001b[39mtorch\u001b[39;00m\n\u001b[1;32m      4\u001b[0m \u001b[39mimport\u001b[39;00m \u001b[39mtorch\u001b[39;00m\u001b[39m.\u001b[39;00m\u001b[39mnn\u001b[39;00m \u001b[39mas\u001b[39;00m \u001b[39mnn\u001b[39;00m\n\u001b[0;32m----> 5\u001b[0m \u001b[39mimport\u001b[39;00m \u001b[39mtorchtext\u001b[39;00m\n\u001b[1;32m      6\u001b[0m \u001b[39mfrom\u001b[39;00m \u001b[39mtorchtext\u001b[39;00m\u001b[39m.\u001b[39;00m\u001b[39mdata\u001b[39;00m\u001b[39m.\u001b[39;00m\u001b[39mutils\u001b[39;00m \u001b[39mimport\u001b[39;00m get_tokenizer\n\u001b[1;32m      7\u001b[0m \u001b[39mfrom\u001b[39;00m \u001b[39mtorchtext\u001b[39;00m\u001b[39m.\u001b[39;00m\u001b[39mvocab\u001b[39;00m \u001b[39mimport\u001b[39;00m build_vocab_from_iterator\n",
      "\u001b[0;31mModuleNotFoundError\u001b[0m: No module named 'torchtext'"
     ]
    }
   ],
   "source": [
    "import math\n",
    "\n",
    "import torch\n",
    "import torch.nn as nn\n",
    "import torchtext\n",
    "from torchtext.data.utils import get_tokenizer\n",
    "from torchtext.vocab import build_vocab_from_iterator\n",
    "\n",
    "import os\n",
    "import pandas as pd\n"
   ]
  },
  {
   "cell_type": "code",
   "execution_count": 6,
   "id": "8a38a1b3-cbf8-4f50-8040-7f642e2edb5b",
   "metadata": {},
   "outputs": [],
   "source": [
    "curr_dir = os.getcwd()\n",
    "input_dir = os.path.join(curr_dir,'data','input')\n",
    "output_dir = os.path.join(curr_dir,'data','output')\n",
    "\n",
    "data_csv = os.path.join(os.path.join(input_dir,'data.csv'))"
   ]
  },
  {
   "cell_type": "code",
   "execution_count": 7,
   "id": "0c648653-1c08-4fb4-a72d-0db638f39a5e",
   "metadata": {},
   "outputs": [
    {
     "data": {
      "text/plain": [
       "0    hi , how are you doing ? i am getting ready to...\n",
       "1    hi , how are you doing today ?\\ni am spending ...\n",
       "2    we all live in a yellow submarine , a yellow s...\n",
       "3    hi ! i work as a gourmet cook .\\ni do not like...\n",
       "4    how are you doing today\\nwhat do you do for ca...\n",
       "Name: chat, dtype: object"
      ]
     },
     "execution_count": 7,
     "metadata": {},
     "output_type": "execute_result"
    }
   ],
   "source": [
    "data = pd.read_csv(data_csv)\n",
    "p2 = data['chat']\n",
    "p2.head()"
   ]
  },
  {
   "cell_type": "code",
   "execution_count": 9,
   "id": "32d49dde-a0da-46c3-a699-97ed51bae304",
   "metadata": {},
   "outputs": [
    {
     "data": {
      "text/plain": [
       "['hi , how are you doing ? i am getting ready to do some cheetah chasing to stay in shape .',\n",
       " 'you must be very fast . hunting is one of my favorite hobbies .',\n",
       " 'i am ! for my hobby i like to do canning or some whittling .',\n",
       " 'i also remodel homes when i am not out bow hunting .',\n",
       " 'that is neat . when i was in high school i placed 6th in 100m dash !',\n",
       " 'that is awesome . do you have a favorite season or time of year ?',\n",
       " 'i do not . but i do have a favorite meat since that is all i eat exclusively .',\n",
       " 'what is your favorite meat to eat ?',\n",
       " 'i would have to say its prime rib . do you have any favorite foods ?',\n",
       " 'i like chicken or macaroni and cheese .',\n",
       " 'do you have anything planned for today ? i think i am going to do some canning .',\n",
       " 'i am going to watch football . what are you canning ?',\n",
       " 'i think i will can some jam . do you also play footfall for fun ?',\n",
       " 'if i have time outside of hunting and remodeling homes . which is not much !']"
      ]
     },
     "execution_count": 9,
     "metadata": {},
     "output_type": "execute_result"
    }
   ],
   "source": [
    "para = p2[0]\n",
    "datas = para.split(\"\\n\")\n",
    "datas = list(filter(lambda x: x!='',datas))\n",
    "datas"
   ]
  },
  {
   "cell_type": "code",
   "execution_count": null,
   "id": "19ad6cbc-f54a-4f6f-bc2d-4207282ca952",
   "metadata": {},
   "outputs": [],
   "source": [
    "class Token2Id():\n",
    "    def __init__(self,sentence):\n",
    "        pass"
   ]
  }
 ],
 "metadata": {
  "kernelspec": {
   "display_name": "Python 3 (ipykernel)",
   "language": "python",
   "name": "python3"
  },
  "language_info": {
   "codemirror_mode": {
    "name": "ipython",
    "version": 3
   },
   "file_extension": ".py",
   "mimetype": "text/x-python",
   "name": "python",
   "nbconvert_exporter": "python",
   "pygments_lexer": "ipython3",
   "version": "3.9.0"
  }
 },
 "nbformat": 4,
 "nbformat_minor": 5
}
