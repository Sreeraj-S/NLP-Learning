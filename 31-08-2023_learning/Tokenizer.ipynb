{
 "cells": [
  {
   "cell_type": "code",
   "execution_count": 22,
   "id": "a111f64c-b211-4b99-9e02-eae262b93525",
   "metadata": {},
   "outputs": [],
   "source": [
    "import os\n",
    "import itertools\n",
    "\n",
    "from tqdm.notebook import trange,tqdm\n",
    "\n",
    "from tokenizers import Tokenizer\n",
    "from tokenizers.models import BPE,Unigram\n",
    "from tokenizers.trainers import BpeTrainer,UnigramTrainer\n",
    "from tokenizers.pre_tokenizers import Whitespace\n",
    "\n",
    "import pandas as pd"
   ]
  },
  {
   "cell_type": "code",
   "execution_count": 20,
   "id": "7f18c813-e6c4-4207-a043-9e52d7333ac4",
   "metadata": {},
   "outputs": [
    {
     "name": "stdout",
     "output_type": "stream",
     "text": [
      "\u001b[33mWARNING: Retrying (Retry(total=4, connect=None, read=None, redirect=None, status=None)) after connection broken by 'NewConnectionError('<pip._vendor.urllib3.connection.HTTPSConnection object at 0x7f62b44d3bb0>: Failed to establish a new connection: [Errno -3] Temporary failure in name resolution')': /simple/tokenizers/\u001b[0m\u001b[33m\n",
      "\u001b[0m\u001b[33mWARNING: Retrying (Retry(total=3, connect=None, read=None, redirect=None, status=None)) after connection broken by 'NewConnectionError('<pip._vendor.urllib3.connection.HTTPSConnection object at 0x7f62b44d3eb0>: Failed to establish a new connection: [Errno -3] Temporary failure in name resolution')': /simple/tokenizers/\u001b[0m\u001b[33m\n",
      "\u001b[0mCollecting tokenizers\n",
      "  Downloading tokenizers-0.13.3-cp38-cp38-manylinux_2_17_x86_64.manylinux2014_x86_64.whl (7.8 MB)\n",
      "\u001b[2K     \u001b[90m━━━━━━━━━━━━━━━━━━━━━━━━━━━━━━━━━━━━━━━━\u001b[0m \u001b[32m7.8/7.8 MB\u001b[0m \u001b[31m1.1 MB/s\u001b[0m eta \u001b[36m0:00:00\u001b[0m00:01\u001b[0m00:01\u001b[0m0m\n",
      "\u001b[?25hInstalling collected packages: tokenizers\n",
      "Successfully installed tokenizers-0.13.3\n"
     ]
    }
   ],
   "source": [
    "# !pip install tokenizers"
   ]
  },
  {
   "cell_type": "code",
   "execution_count": null,
   "id": "f6f73de6-a903-4c43-aca4-da32c34a02f7",
   "metadata": {},
   "outputs": [],
   "source": []
  },
  {
   "cell_type": "code",
   "execution_count": 3,
   "id": "0d3dc924-40c5-458c-884f-865989659b59",
   "metadata": {},
   "outputs": [
    {
     "data": {
      "text/plain": [
       "'hi , how are you doing ? i am getting ready to do some cheetah chasing to stay in shape .\\nyou must be very fast . hunting is one of my favorite hobbies .\\ni am ! for my hobby i like to do canning or some whittling .\\ni also remodel homes when i am not out bow hunting .\\nthat is neat . when i was in high school i placed 6th in 100m dash !\\nthat is awesome . do you have a favorite season or time of year ?\\ni do not . but i do have a favorite meat since that is all i eat exclusively .\\nwhat is your favorite meat to eat ?\\ni would have to say its prime rib . do you have any favorite foods ?\\ni like chicken or macaroni and cheese .\\ndo you have anything planned for today ? i think i am going to do some canning .\\ni am going to watch football . what are you canning ?\\ni think i will can some jam . do you also play footfall for fun ?\\nif i have time outside of hunting and remodeling homes . which is not much !\\n'"
      ]
     },
     "execution_count": 3,
     "metadata": {},
     "output_type": "execute_result"
    }
   ],
   "source": [
    "data = pd.read_csv('./data/input/data.csv')\n",
    "datas = data['chat'][0]\n",
    "datas"
   ]
  },
  {
   "cell_type": "markdown",
   "id": "196a19e4-789c-4820-a179-2b66b7afb9e2",
   "metadata": {},
   "source": [
    "# Version 0.01"
   ]
  },
  {
   "cell_type": "code",
   "execution_count": null,
   "id": "5a17fc6b-4904-4659-97c9-3bf93c7fcfce",
   "metadata": {},
   "outputs": [],
   "source": [
    "h = {}\n",
    "words = data.split()\n",
    "maxLenWord = max(len(i) for i in words)\n",
    "freq = lambda j,h : h[j]+1 if j in list(h.keys()) else 1\n",
    "count_substring = lambda main_string, substring: main_string.count(substring)\n",
    "for i in words:\n",
    "    for j in i:\n",
    "        x = freq(j,h)\n",
    "        h[j] = x\n",
    "char_list = list(h.keys())\n",
    "\n",
    "\n",
    "# for i in two_letter_substrings:\n",
    "#     x=0\n",
    "#     for j in words:\n",
    "#         x += count_substring(j,i)\n",
    "#     if x not in [0,1]: h[i] = x\n",
    "maxLenWord"
   ]
  },
  {
   "cell_type": "code",
   "execution_count": null,
   "id": "c650e6f5-28c8-49b8-9cb8-46cb9badaf6d",
   "metadata": {
    "scrolled": true
   },
   "outputs": [],
   "source": [
    "corpus = []\n",
    "corpus.extend(char_list)\n",
    "substrings = lambda char_list1,char_list2: [char_list1[i] + char_list2[j] for i in range(len(char_list)) for j in range(len(char_list))]\n",
    "temp_list = char_list\n",
    "for i in range(maxLenWord-1):\n",
    "    temp_list1 = substrings(char_list,temp_list)\n",
    "    temp_list2 = substrings(temp_list,char_list)\n",
    "    temp_list = temp_list1+temp_list2\n",
    "    print(temp_list[0])\n",
    "    corpus.extend(temp_list)\n"
   ]
  },
  {
   "cell_type": "code",
   "execution_count": null,
   "id": "a1053bd4-4886-4b74-ac73-b916f70cf694",
   "metadata": {},
   "outputs": [],
   "source": [
    "for i in range(maxLenWord,1,-1):\n",
    "    print(i)\n",
    "    for substring in corpus:\n",
    "        if len(substring) == i:\n",
    "\n",
    "            x=0\n",
    "            for word in words:\n",
    "                x += count_substring(word,substring)\n",
    "                \n",
    "            if x != 0: print(substring)\n"
   ]
  },
  {
   "cell_type": "markdown",
   "id": "169b5b42-0926-473e-b02a-3879fcc88d6b",
   "metadata": {
    "jp-MarkdownHeadingCollapsed": true
   },
   "source": [
    "# Version 0.02"
   ]
  },
  {
   "cell_type": "code",
   "execution_count": null,
   "id": "d88d95b7-4576-47a2-9f91-50174265bd6b",
   "metadata": {},
   "outputs": [],
   "source": [
    "p =['56']\n",
    "k=p\n",
    "k = [4]\n",
    "k"
   ]
  },
  {
   "cell_type": "code",
   "execution_count": null,
   "id": "5a8f3d3b-902e-48c6-a709-3c2e302ae50f",
   "metadata": {},
   "outputs": [],
   "source": [
    "corpus = []\n",
    "corpus.extend(char_list)\n",
    "substrings = lambda letter,charlist : [''.join(combination) for combination in tqdm(itertools.product(charlist, repeat=letter)) if count_substring(data,''.join(combination)) != 0]\n",
    "for i in trange(2,maxLenWord+1):\n",
    "    corpus.extend(substrings(i,char_list))\n",
    "len(corpus)"
   ]
  },
  {
   "attachments": {
    "ffd30edd-1177-4e9f-9264-3c46b581914b.png": {
     "image/png": "[encoded data removed]"
    }
   },
   "cell_type": "markdown",
   "id": "2da6d910-f9d8-435b-85e2-c7db173e6407",
   "metadata": {},
   "source": [
    "![image.png](attachment:ffd30edd-1177-4e9f-9264-3c46b581914b.png)"
   ]
  },
  {
   "cell_type": "code",
   "execution_count": null,
   "id": "d1f87fe5-a961-40d8-af48-c14960d51aaa",
   "metadata": {},
   "outputs": [],
   "source": [
    "import pickle\n",
    "with open('goin.bin','wb') as file:\n",
    "    pickle.dump(corpus,file)"
   ]
  },
  {
   "cell_type": "code",
   "execution_count": null,
   "id": "9e0c6549-3c6f-4212-bb7d-d6225bfce770",
   "metadata": {},
   "outputs": [],
   "source": [
    "print(corpus)"
   ]
  },
  {
   "cell_type": "markdown",
   "id": "8e940bec-90b2-4ea0-99f6-515c3a79f7eb",
   "metadata": {},
   "source": [
    "['h', 'i', ',', 'o', 'w', 'a', 'r', 'e', 'y', 'u', 'd', 'n', 'g', '?', 'm', 't', 's', 'c', 'p', '.', 'hi', 'ho', 'ha', 'he', 'in', 'oi', 'ow', 'ou', 'om', 'ah', 'ar', 'ay', 'ad', 'am', 'as', 'ap', 're', 'ea', 'ee', 'et', 'yo', 'do', 'dy', 'ng', 'ge', 'me', 'ti', 'to', 'ta', 'tt', 'sh', 'si', 'so', 'st', 'ch', 'pe', 'how', 'has', 'hap', 'hee', 'ing', 'oin', 'ome', 'are', 'ady', 'asi', 'ape', 'rea', 'ead', 'eet', 'eta', 'ett', 'you', 'doi', 'get', 'tin', 'tah', 'tay', 'tti', 'sha', 'sin', 'som', 'sta', 'cha', 'che', 'hasi', 'hape', 'heet', 'oing', 'asin', 'read', 'eady', 'eeta', 'etah', 'etti', 'doin', 'gett', 'ting', 'ttin', 'shap', 'sing', 'some', 'stay', 'chas', 'chee', 'hasin', 'heeta', 'asing', 'ready', 'eetah', 'ettin', 'doing', 'getti', 'tting', 'shape', 'chasi', 'cheet', 'hasing', 'heetah', 'etting', 'gettin', 'chasin', 'cheeta', 'getting', 'chasing', 'cheetah']"
   ]
  },
  {
   "cell_type": "markdown",
   "id": "b4053fbf-cbac-4a61-a1f2-a9796860267c",
   "metadata": {
    "jp-MarkdownHeadingCollapsed": true
   },
   "source": [
    "# Version 0.03\n"
   ]
  },
  {
   "cell_type": "code",
   "execution_count": null,
   "id": "757c580a-e92c-4758-966e-b64471445fe0",
   "metadata": {},
   "outputs": [],
   "source": [
    "sentence = datas.split('\\n')\n",
    "sentence= list(filter(lambda x: x!='',sentence))\n",
    "# sentence= list(filter(lambda x: x+='[SEP]',sentence))\n",
    "for i in range(len(sentence)): sentence[i] += '[SEP]'\n",
    "for i in range(len(sentence)): sentence[i]= sentence[i].split()\n",
    "for i in range(len(sentence)):\n",
    "    for j in range(len(sentence[i])):\n",
    "        sentence[i][j] += '</w>'\n"
   ]
  },
  {
   "cell_type": "code",
   "execution_count": 18,
   "id": "bc3275d9-6af1-412f-bc54-04eff12943c3",
   "metadata": {},
   "outputs": [
    {
     "data": {
      "text/plain": [
       "{'h': 41,\n",
       " 'i': 67,\n",
       " '<': 207,\n",
       " '/': 207,\n",
       " 'w': 220,\n",
       " '>': 207,\n",
       " ',': 1,\n",
       " 'o': 74,\n",
       " 'a': 63,\n",
       " 'r': 22,\n",
       " 'e': 58,\n",
       " 'y': 21,\n",
       " 'u': 19,\n",
       " 'd': 22,\n",
       " 'n': 47,\n",
       " 'g': 18,\n",
       " '?': 7,\n",
       " 'm': 26,\n",
       " 't': 53,\n",
       " 's': 33,\n",
       " 'c': 17,\n",
       " 'p': 5,\n",
       " '.': 15,\n",
       " '[': 14,\n",
       " 'S': 14,\n",
       " 'E': 14,\n",
       " 'P': 14,\n",
       " ']': 14,\n",
       " 'b': 9,\n",
       " 'v': 13,\n",
       " 'f': 18,\n",
       " '!': 3,\n",
       " 'l': 22,\n",
       " 'k': 5,\n",
       " '6': 1,\n",
       " '1': 1,\n",
       " '0': 2,\n",
       " 'x': 1,\n",
       " 'j': 1}"
      ]
     },
     "execution_count": 18,
     "metadata": {},
     "output_type": "execute_result"
    }
   ],
   "source": [
    "h = {}\n",
    "count_substring = lambda main_string, substring: main_string.count(substring)\n",
    "freq = lambda j,h : h[j]+1 if j in list(h.keys()) else 1\n",
    "for i in range(len(sentence)):\n",
    "    for j in range(len(sentence[i])):\n",
    "        for l in sentence[i][j]:\n",
    "            x = freq(l,h)\n",
    "            h[l]=x\n",
    "h"
   ]
  },
  {
   "cell_type": "markdown",
   "id": "1d3dc11a-a1c3-4be7-96f6-bc2036ac819c",
   "metadata": {},
   "source": [
    "# Version 0.04 -- Using tonizer by hugging face"
   ]
  },
  {
   "cell_type": "code",
   "execution_count": null,
   "id": "05c63a26-3300-4a8e-889b-921c828b7595",
   "metadata": {},
   "outputs": [],
   "source": [
    "unk_token = \"<UNK>\"\n",
    "spl_tokens = [\"<UNK>\",\"<SEP>\",\"<CLS>\",\"<MASK>\"]\n",
    "\n",
    "def prepare_tokenizer_trainer(alg='BPE'):\n",
    "    if alg == 'BPE':\n",
    "        tokenizer = Tokenizer(BPE(unk_token=unk_token))\n",
    "        trainer = BpeTrainer(spl_tokens=spl_tokens)\n",
    "    elif alg == 'UNI':\n",
    "        tokenizer = Tokenizer(Unigram()))\n",
    "        trainer = UnigramTrainer(unk_token=unk_token,spl_tokens=spl_tokens)\n",
    "    tokenizer.pre_tokenizer = Whitespace()\n",
    "    return tokenizer, trainer\n",
    "    \n",
    "def train_tokenizer(files,alg='BPE'):\n",
    "    tokenizer,trainer = prepare_tokenizer_trainer(alg)\n",
    "    tokenizer.train(files,trainer)\n",
    "    tokenizer.save(f'./data/output/token-{alg}.json')\n",
    "    tokenizer = Tokenizer.from_file(f'./data/output/token-{alg}.json')\n",
    "    return tokenizer\n"
   ]
  }
 ],
 "metadata": {
  "kernelspec": {
   "display_name": "Python 3 (ipykernel)",
   "language": "python",
   "name": "python3"
  },
  "language_info": {
   "codemirror_mode": {
    "name": "ipython",
    "version": 3
   },
   "file_extension": ".py",
   "mimetype": "text/x-python",
   "name": "python",
   "nbconvert_exporter": "python",
   "pygments_lexer": "ipython3",
   "version": "3.9.0"
  }
 },
 "nbformat": 4,
 "nbformat_minor": 5
}
