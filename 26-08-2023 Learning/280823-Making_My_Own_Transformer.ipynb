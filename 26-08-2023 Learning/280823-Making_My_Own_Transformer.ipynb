{
 "cells": [
  {
   "cell_type": "code",
   "execution_count": 3,
   "id": "29d6f494-176f-40e7-a686-1abefef59320",
   "metadata": {},
   "outputs": [],
   "source": [
    "import numpy as np\n",
    "import json\n",
    "import pandas as pd"
   ]
  },
  {
   "cell_type": "code",
   "execution_count": 5,
   "id": "0597fc1a-34f0-46a7-8279-9fe16b1f506b",
   "metadata": {},
   "outputs": [
    {
     "name": "stdout",
     "output_type": "stream",
     "text": [
      "[[   0    0    0 ...    0   23   15]\n",
      " [   0    0    0 ...   23   15    4]\n",
      " [   0    0    0 ...   15    4   46]\n",
      " ...\n",
      " [   0    0    0 ... 4672   25   68]\n",
      " [   0    0    0 ...   25   68  452]\n",
      " [   0    0    0 ...   68  452   12]]\n",
      "20\n"
     ]
    }
   ],
   "source": [
    "df = pd.read_csv('data/pad.csv')\n",
    "inputSeq = np.array(df[0:50000])\n",
    "print(np.array(inputSeq)) \n",
    "maxSeqLen = len(inputSeq[0])\n",
    "print(maxSeqLen)"
   ]
  },
  {
   "cell_type": "code",
   "execution_count": null,
   "id": "c1a6de21-5dea-4878-a8a8-5a5f55f1f416",
   "metadata": {},
   "outputs": [],
   "source": []
  }
 ],
 "metadata": {
  "kernelspec": {
   "display_name": "Python 3 (ipykernel)",
   "language": "python",
   "name": "python3"
  },
  "language_info": {
   "codemirror_mode": {
    "name": "ipython",
    "version": 3
   },
   "file_extension": ".py",
   "mimetype": "text/x-python",
   "name": "python",
   "nbconvert_exporter": "python",
   "pygments_lexer": "ipython3",
   "version": "3.8.17"
  }
 },
 "nbformat": 4,
 "nbformat_minor": 5
}
