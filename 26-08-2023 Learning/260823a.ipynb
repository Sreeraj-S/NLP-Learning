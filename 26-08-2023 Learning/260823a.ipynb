{
 "cells": [
  {
   "cell_type": "code",
   "execution_count": 2,
   "id": "d6189e7f-9b86-4686-8071-f110eb9faaba",
   "metadata": {},
   "outputs": [],
   "source": [
    "import torch\n",
    "from torch.autograd import Variable\n",
    "import torch.nn as nn\n",
    "import torch.nn.functional as F"
   ]
  },
  {
   "cell_type": "code",
   "execution_count": 5,
   "id": "04f1a1ea-9772-47b0-b673-fde88c9a9f20",
   "metadata": {},
   "outputs": [],
   "source": [
    "class SkipGramModel(nn.Module):\n",
    "   def __init__(self, emb_size, emb_dimension):\n",
    "      super(SkipGramModel, self).__init__()\n",
    "      self.emb_size = emb_size\n",
    "      self.emb_dimension = emb_dimension\n",
    "      self.u_embeddings = nn.Embedding(emb_size, emb_dimension, sparse=True)\n",
    "      self.v_embeddings = nn.Embedding(emb_size, emb_dimension, sparse = True)\n",
    "      self.init_emb()\n",
    "   def init_emb(self):\n",
    "      initrange = 0.5 / self.emb_dimension\n",
    "      self.u_embeddings.weight.data.uniform_(-initrange, initrange)\n",
    "      self.v_embeddings.weight.data.uniform_(-0, 0)\n",
    "   def forward(self, pos_u, pos_v, neg_v):\n",
    "      emb_u = self.u_embeddings(pos_u)\n",
    "      emb_v = self.v_embeddings(pos_v)\n",
    "      score = torch.mul(emb_u, emb_v).squeeze()\n",
    "      score = torch.sum(score, dim = 1)\n",
    "      score = F.logsigmoid(score)\n",
    "      neg_emb_v = self.v_embeddings(neg_v)\n",
    "      neg_score = torch.bmm(neg_emb_v, emb_u.unsqueeze(2)).squeeze()\n",
    "      neg_score = F.logsigmoid(-1 * neg_score)\n",
    "      return -1 * (torch.sum(score)+torch.sum(neg_score))\n",
    "   def save_embedding(self, id2word, file_name, use_cuda):\n",
    "      if use_cuda:\n",
    "         embedding = self.u_embeddings.weight.cpu().data.numpy()\n",
    "      else:\n",
    "         embedding = self.u_embeddings.weight.data.numpy()\n",
    "      fout = open(file_name, 'w')\n",
    "      fout.write('%d %d\\n' % (len(id2word), self.emb_dimension))\n",
    "      for wid, w in id2word.items():\n",
    "         e = embedding[wid]\n",
    "         e = ' '.join(map(lambda x: str(x), e))\n",
    "         fout.write('%s %s\\n' % (w, e))\n",
    "def test():\n",
    "   model = SkipGramModel(100, 100)\n",
    "   id2word = dict()\n",
    "   for i in range(100):\n",
    "      id2word[i] = str(i)\n",
    "   model.save_embedding(id2word,\"test.txt\",True)         \n"
   ]
  },
  {
   "cell_type": "code",
   "execution_count": 6,
   "id": "76c9facf-6bce-4777-8502-5dd32f93fa5b",
   "metadata": {},
   "outputs": [],
   "source": [
    "if __name__  ==  '__main__':\n",
    "   test()"
   ]
  },
  {
   "cell_type": "code",
   "execution_count": null,
   "id": "2756277d-ec1d-43e8-ac88-4cc38c3fb524",
   "metadata": {},
   "outputs": [],
   "source": []
  }
 ],
 "metadata": {
  "kernelspec": {
   "display_name": "Python 3 (ipykernel)",
   "language": "python",
   "name": "python3"
  },
  "language_info": {
   "codemirror_mode": {
    "name": "ipython",
    "version": 3
   },
   "file_extension": ".py",
   "mimetype": "text/x-python",
   "name": "python",
   "nbconvert_exporter": "python",
   "pygments_lexer": "ipython3",
   "version": "3.8.17"
  }
 },
 "nbformat": 4,
 "nbformat_minor": 5
}
